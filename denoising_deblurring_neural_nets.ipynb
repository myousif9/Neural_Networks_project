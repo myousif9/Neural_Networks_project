{
 "cells": [
  {
   "cell_type": "code",
   "execution_count": 2,
   "id": "5cf006ad-65d1-47d5-aa5a-32c7b8f271df",
   "metadata": {},
   "outputs": [],
   "source": [
    "# import libraries\n",
    "import numpy as np\n",
    "import torch\n",
    "\t\t\t\n",
    "# step 1: prep data set \t\t\t\n",
    "# import torchvision\n",
    "# import torchvision.transforms as transforms\n",
    "import matplotlib.pyplot as plt\n",
    "\n",
    "# step 2: build model\n",
    "import torch.nn as nn\n",
    "import torch.nn.functional as F\n",
    "\n",
    "# step 3: train model\n",
    "import torch.optim as optim"
   ]
  },
  {
   "cell_type": "markdown",
   "id": "978031c5-e0a8-45ca-a63d-565affd12a93",
   "metadata": {},
   "source": [
    "### Denoising and deblurring\n",
    "- Architecture 1 (DN-Net denosing network, DB-Net deblurring network & RestoreNET)\n",
    "    - input layer: 128 x 128 x 3\n",
    "    - 2 hidden layers: \n",
    "        - 8 feature maps\n",
    "        - kernal size 5 x 5\n",
    "        - stride = 1\n",
    "        - sigmoid activation functions\n",
    "    - output layer: 128 x 128 x 3\n",
    "    - no pooling residual connections or other\n",
    "\n",
    "- Architecture 2 (deep DN-Net denosing network, deep DB-Net deblurring network & deep RestoreNET)\n",
    "    - input layer: 128 x 128 x 3\n",
    "    - 4 hidden layers:\n",
    "        - 24 feature maps\n",
    "        - kernal size 5 x 5\n",
    "        - no stride\n",
    "        - sigmoid activation functions\n",
    "        \n",
    "- loss function: mean squared error\n",
    "- 100 epochs and stopped optimization if no improvement in validation sset after 5 consecutive evaluations"
   ]
  },
  {
   "cell_type": "code",
   "execution_count": null,
   "id": "8abd2cc3-906f-43ac-894d-679b712a8345",
   "metadata": {},
   "outputs": [],
   "source": [
    "kernel_size = 5\n",
    "pool_size = 2\n",
    "numkernals = 64\n",
    "batch_size =  32\n",
    "epochs = 100\n",
    "\n",
    "Class Simple_Net(nn.Module):\n",
    "    def __init(self):\n",
    "        super(Net, self).__init__()\n",
    "        \n",
    "        self.input_layer = nn.Sequential(\n",
    "            nn.Conv2d(3, num_filters, kernel_size)\n",
    "            nn.Sigmoid()\n",
    "        )\n",
    "        \n",
    "        self.hidden_layer = nn.Sequential(\n",
    "            nn.Conv2d(num_filters,\n",
    "                      num_filters,\n",
    "                      kernel_size)\n",
    "            nn.Sigmoid()\n",
    "        )\n",
    "        \n",
    "        self.output_layer = nn.Sequential(\n",
    "            nn.Conv2d(num_filters,\n",
    "                      3,\n",
    "                      kernel_size)\n",
    "        )\n",
    "        \n",
    "    def forward(self, x):\n",
    "        x = self.input_layer(x)\n",
    "        x = self.hidden_layer(x)\n",
    "        x = self.hidden_layer(x)\n",
    "        x = self.output_layer(x)\n",
    "        \n",
    "        return x\n",
    "            \n",
    "            "
   ]
  }
 ],
 "metadata": {
  "kernelspec": {
   "display_name": "Python 3 (ipykernel)",
   "language": "python",
   "name": "python3"
  },
  "language_info": {
   "codemirror_mode": {
    "name": "ipython",
    "version": 3
   },
   "file_extension": ".py",
   "mimetype": "text/x-python",
   "name": "python",
   "nbconvert_exporter": "python",
   "pygments_lexer": "ipython3",
   "version": "3.8.10"
  }
 },
 "nbformat": 4,
 "nbformat_minor": 5
}
