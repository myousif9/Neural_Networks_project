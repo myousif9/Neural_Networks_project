{
 "cells": [
  {
   "cell_type": "code",
   "execution_count": 11,
   "id": "7c796317-3db9-458e-987d-acab1d942a55",
   "metadata": {},
   "outputs": [
    {
     "ename": "ModuleNotFoundError",
     "evalue": "No module named 'torchvision'",
     "output_type": "error",
     "traceback": [
      "\u001b[0;31m---------------------------------------------------------------------------\u001b[0m",
      "\u001b[0;31mModuleNotFoundError\u001b[0m                       Traceback (most recent call last)",
      "Cell \u001b[0;32mIn[11], line 6\u001b[0m\n\u001b[1;32m      3\u001b[0m \u001b[38;5;28;01mimport\u001b[39;00m \u001b[38;5;21;01mtorch\u001b[39;00m\n\u001b[1;32m      5\u001b[0m \u001b[38;5;66;03m# step 1: prep data set \t\t\t\u001b[39;00m\n\u001b[0;32m----> 6\u001b[0m \u001b[38;5;28;01mimport\u001b[39;00m \u001b[38;5;21;01mtorchvision\u001b[39;00m\n\u001b[1;32m      7\u001b[0m \u001b[38;5;28;01mimport\u001b[39;00m \u001b[38;5;21;01mtorchvision\u001b[39;00m\u001b[38;5;21;01m.\u001b[39;00m\u001b[38;5;21;01mtransforms\u001b[39;00m \u001b[38;5;28;01mas\u001b[39;00m \u001b[38;5;21;01mtransforms\u001b[39;00m\n\u001b[1;32m      8\u001b[0m \u001b[38;5;28;01mimport\u001b[39;00m \u001b[38;5;21;01mmatplotlib\u001b[39;00m\u001b[38;5;21;01m.\u001b[39;00m\u001b[38;5;21;01mpyplot\u001b[39;00m \u001b[38;5;28;01mas\u001b[39;00m \u001b[38;5;21;01mplt\u001b[39;00m\n",
      "\u001b[0;31mModuleNotFoundError\u001b[0m: No module named 'torchvision'"
     ]
    }
   ],
   "source": [
    "# import libraries\n",
    "import numpy as np\n",
    "import torch\n",
    "\t\t\t\n",
    "# step 1: prep data set \t\t\t\n",
    "import torchvision\n",
    "import torchvision.transforms as transforms\n",
    "import matplotlib.pyplot as plt\n",
    "\n",
    "# step 2: build model\n",
    "import torch.nn as nn\n",
    "import torch.nn.functional as F\n",
    "\n",
    "# step 3: train model\n",
    "import torch.optim as optim"
   ]
  },
  {
   "cell_type": "code",
   "execution_count": 10,
   "id": "1f5fd4fe-adad-462f-aa30-47c7f76e5b8e",
   "metadata": {},
   "outputs": [
    {
     "name": "stdout",
     "output_type": "stream",
     "text": [
      "Looking in links: /cvmfs/soft.computecanada.ca/custom/python/wheelhouse/gentoo/avx2, /cvmfs/soft.computecanada.ca/custom/python/wheelhouse/gentoo/generic, /cvmfs/soft.computecanada.ca/custom/python/wheelhouse/generic\n",
      "Requirement already satisfied: torchvision in /local/myousif9.4559062.0/tmp/kslurm-venv-6ij6p2rf/lib/python3.8/site-packages (0.14.1+computecanada)\n",
      "Requirement already satisfied: pillow-simd!=8.3.*,>=5.3.0 in /local/myousif9.4559062.0/tmp/kslurm-venv-6ij6p2rf/lib/python3.8/site-packages (from torchvision) (9.0.0.post1+computecanada)\n",
      "Requirement already satisfied: typing-extensions in /local/myousif9.4559062.0/tmp/kslurm-venv-6ij6p2rf/lib/python3.8/site-packages (from torchvision) (4.5.0+computecanada)\n",
      "Requirement already satisfied: numpy in /local/myousif9.4559062.0/tmp/kslurm-venv-6ij6p2rf/lib/python3.8/site-packages (from torchvision) (1.24.2+computecanada)\n",
      "Requirement already satisfied: torch==1.13.1 in /local/myousif9.4559062.0/tmp/kslurm-venv-6ij6p2rf/lib/python3.8/site-packages (from torchvision) (1.13.1+computecanada)\n",
      "Requirement already satisfied: requests in /local/myousif9.4559062.0/tmp/kslurm-venv-6ij6p2rf/lib/python3.8/site-packages (from torchvision) (2.28.2+computecanada)\n",
      "Requirement already satisfied: idna<4,>=2.5 in /local/myousif9.4559062.0/tmp/kslurm-venv-6ij6p2rf/lib/python3.8/site-packages (from requests->torchvision) (3.4+computecanada)\n",
      "Requirement already satisfied: urllib3<1.27,>=1.21.1 in /local/myousif9.4559062.0/tmp/kslurm-venv-6ij6p2rf/lib/python3.8/site-packages (from requests->torchvision) (1.26.15)\n",
      "Requirement already satisfied: charset-normalizer<4,>=2 in /local/myousif9.4559062.0/tmp/kslurm-venv-6ij6p2rf/lib/python3.8/site-packages (from requests->torchvision) (3.1.0)\n",
      "Requirement already satisfied: certifi>=2017.4.17 in /local/myousif9.4559062.0/tmp/kslurm-venv-6ij6p2rf/lib/python3.8/site-packages (from requests->torchvision) (2022.12.7+computecanada)\n"
     ]
    }
   ],
   "source": [
    "!pip install torchvision"
   ]
  },
  {
   "cell_type": "code",
   "execution_count": null,
   "id": "77ade766-9319-49f2-9390-b88a489d0c61",
   "metadata": {},
   "outputs": [],
   "source": []
  }
 ],
 "metadata": {
  "kernelspec": {
   "display_name": "Python 3 (ipykernel)",
   "language": "python",
   "name": "python3"
  },
  "language_info": {
   "codemirror_mode": {
    "name": "ipython",
    "version": 3
   },
   "file_extension": ".py",
   "mimetype": "text/x-python",
   "name": "python",
   "nbconvert_exporter": "python",
   "pygments_lexer": "ipython3",
   "version": "3.8.10"
  }
 },
 "nbformat": 4,
 "nbformat_minor": 5
}
