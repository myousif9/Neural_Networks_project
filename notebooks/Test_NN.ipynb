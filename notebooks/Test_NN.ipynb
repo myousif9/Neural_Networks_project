{
 "cells": [
  {
   "cell_type": "code",
   "execution_count": 1,
   "id": "54c961e0-d404-442c-aac4-63f252414fb0",
   "metadata": {},
   "outputs": [],
   "source": [
    "# Libraries\n",
    "from turtle import shape\n",
    "# from Deblurring_NN import X_test\n",
    "import keras\n",
    "from keras.models import load_model\n",
    "from keras.datasets import cifar10\n",
    "from keras.layers import Input, Dense, Conv2D, MaxPooling2D, UpSampling2D, BatchNormalization, Activation\n",
    "from keras import models\n",
    "from keras import layers\n",
    "from keras.models import Model\n",
    "from keras.callbacks import EarlyStopping, ModelCheckpoint\n",
    "import os\n",
    "import sys\n",
    "import numpy as np\n",
    "import tensorflow as tf\n",
    "from tensorflow.keras.optimizers import Adam\n",
    "from sklearn.model_selection import train_test_split\n",
    "from keras import backend as K\n",
    "from skimage.metrics import structural_similarity as ssim\n",
    "from skimage.metrics import peak_signal_noise_ratio as psnr\n",
    "from random import randint\n",
    "import zipfile\n",
    "import cv2"
   ]
  },
  {
   "cell_type": "code",
   "execution_count": 2,
   "id": "f14f3b06-6dce-4d92-a0c4-07941425b913",
   "metadata": {},
   "outputs": [],
   "source": [
    "# Path to input file\n",
    "inputZip_blur = '/project/ctb-akhanf/myousif9/Neural_Networks_project/output/Train/deblurring.zip'\n",
    "inputZip_origin = '/project/ctb-akhanf/myousif9/Neural_Networks_project/output/Train/resampled.zip'\n",
    "\n",
    "# Path to output dir\n",
    "saveDir = '../output/Test/' # was called path\n",
    "\n",
    "# Zip file to save test cases\n",
    "outZip = os.path.join(saveDir, \"CNN_denoising_tests.zip\")\n",
    "\n",
    "# Parameters\n",
    "kernel_s = 5\n",
    "# poolSize = 2\n",
    "# numKernels = int(sys.argv[4])\n",
    "batch_size = 32\n",
    "epochs = 100\n",
    "imageSize = 128"
   ]
  },
  {
   "cell_type": "code",
   "execution_count": 5,
   "id": "7ca97ee1-887c-4586-93d1-3dfbb5846678",
   "metadata": {},
   "outputs": [],
   "source": [
    "def extract_train(inputZip,imageSize):\n",
    "    with zipfile.ZipFile(inputZip, mode=\"r\") as archive:\n",
    "        # Separate files into train, validation and test\n",
    "        train_set, test_set = train_test_split(archive.namelist()[0:100], test_size=0.3, random_state=0)\n",
    "        val_set, test_set = train_test_split(test_set, test_size=0.5, random_state=0)\n",
    "        train = np.zeros([len(train_set), imageSize, imageSize, 3])\n",
    "        val = np.zeros([len(val_set), imageSize, imageSize, 3])\n",
    "\n",
    "        for idx, filename in enumerate(train_set):\n",
    "            data = archive.read(filename)\n",
    "            image = cv2.imdecode(np.frombuffer(data, np.uint8), 1)\n",
    "            train[idx,:,:,:] = image.astype('float32')/255.0\n",
    "\n",
    "        for idx, filename in enumerate(val_set):\n",
    "            data = archive.read(filename)\n",
    "            image = cv2.imdecode(np.frombuffer(data, np.uint8), 1)\n",
    "            val[idx,:,:,:] = image.astype('float32')/255.0\n",
    "            \n",
    "    return train, test_set, val\n",
    "\n",
    "def extract_test(inputZip,test_set):\n",
    "    with zipfile.ZipFile(inputZip, mode=\"r\") as archive:\n",
    "        \n",
    "        test = np.zeros([len(test_set), imageSize, imageSize, 3])\n",
    "\n",
    "        for idx, filename in enumerate(test_set):\n",
    "            data = archive.read(filename)\n",
    "            image = cv2.imdecode(np.frombuffer(data, np.uint8), 1)\n",
    "            test[idx,:,:,:] = image.astype('float32')/255.0\n",
    "\n",
    "    return test"
   ]
  },
  {
   "cell_type": "code",
   "execution_count": 6,
   "id": "c62105f9-c71a-44eb-9d72-1b181f8ed04e",
   "metadata": {},
   "outputs": [],
   "source": [
    "X_train, X_test_set, X_val = extract_train(inputZip_blur, imageSize)\n",
    "\n",
    "# y_train, y_test_set, y_val = extract_train(inputZip_origin, imageSize)"
   ]
  },
  {
   "cell_type": "code",
   "execution_count": 8,
   "id": "c583fe9c-e033-4ed7-9bd7-eab1e3d291d9",
   "metadata": {},
   "outputs": [
    {
     "data": {
      "text/plain": [
       "(70, 128, 128, 3)"
      ]
     },
     "execution_count": 8,
     "metadata": {},
     "output_type": "execute_result"
    }
   ],
   "source": [
    "X_train.shape"
   ]
  }
 ],
 "metadata": {
  "kernelspec": {
   "display_name": "Python 3 (ipykernel)",
   "language": "python",
   "name": "python3"
  },
  "language_info": {
   "codemirror_mode": {
    "name": "ipython",
    "version": 3
   },
   "file_extension": ".py",
   "mimetype": "text/x-python",
   "name": "python",
   "nbconvert_exporter": "python",
   "pygments_lexer": "ipython3",
   "version": "3.8.10"
  }
 },
 "nbformat": 4,
 "nbformat_minor": 5
}
